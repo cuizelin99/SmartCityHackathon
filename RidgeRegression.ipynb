{
 "cells": [
  {
   "cell_type": "code",
   "execution_count": 1,
   "metadata": {},
   "outputs": [],
   "source": [
    "import numpy as np\n",
    "from numpy import genfromtxt\n",
    "\n",
    "preprocessed_data = genfromtxt('data/preprocessed_data.csv', delimiter=',', dtype = str)"
   ]
  },
  {
   "cell_type": "code",
   "execution_count": 2,
   "metadata": {},
   "outputs": [
    {
     "name": "stdout",
     "output_type": "stream",
     "text": [
      "34\n",
      "['\"\"\"Clear\"\"\"', '\"\"\"Partly Cloudy\"\"\"', '\"\"\"Overcast\"\"\"', '\"\"\"Humid and Mostly Cloudy\"\"\"', '\"\"\"Humid and Overcast\"\"\"', '\"\"\"Humid and Partly Cloudy\"\"\"', '\"\"\"Humid\"\"\"', '\"\"\"Mostly Cloudy\"\"\"', '\"\"\"Rain\"\"\"', '\"\"\"Heavy Rain\"\"\"', '\"\"\"Possible Light Rain\"\"\"', '\"\"\"Foggy\"\"\"', '\"\"\"Light Rain\"\"\"', '\"\"\"Breezy\"\"\"', '\"\"\"Breezy and Partly Cloudy\"\"\"', '\"\"\"Breezy and Mostly Cloudy\"\"\"', '\"\"\"Drizzle\"\"\"', '\"\"\"Heavy Rain and Breezy\"\"\"', '\"\"\"Rain and Breezy\"\"\"', '\"\"\"Light Rain and Breezy\"\"\"', '\"\"\"Heavy Rain and Windy\"\"\"', '\"\"\"Possible Drizzle\"\"\"', '\"\"\"Humid and Foggy\"\"\"', '\"\"\"Dry\"\"\"', '\"\"\"Breezy and Overcast\"\"\"', '\"\"\"Possible Light Rain and Humid\"\"\"', '\"\"\"Possible Drizzle and Humid\"\"\"', '\"\"\"Rain and Humid\"\"\"', '\"\"\"Windy and Mostly Cloudy\"\"\"', '\"\"\"Light Rain and Humid\"\"\"', '\"\"\"Drizzle and Humid\"\"\"', '\"\"\"Heavy Rain and Humid\"\"\"', '\"\"\"Possible Light Sleet\"\"\"', '\"\"\"Light Sleet\"\"\"']\n"
     ]
    }
   ],
   "source": [
    "summary_list = []\n",
    "\n",
    "for row in preprocessed_data:\n",
    "    if row[10] not in summary_list:\n",
    "        summary_list.append(row[10])\n",
    "\n",
    "print(len(summary_list))\n",
    "print(summary_list)"
   ]
  },
  {
   "cell_type": "code",
   "execution_count": 3,
   "metadata": {},
   "outputs": [],
   "source": [
    "summary_enum = dict()\n",
    "count = 0\n",
    "for s in summary_list:\n",
    "    summary_enum[s] = count\n",
    "    count += 1\n"
   ]
  },
  {
   "cell_type": "code",
   "execution_count": 4,
   "metadata": {},
   "outputs": [
    {
     "name": "stdout",
     "output_type": "stream",
     "text": [
      "21\n"
     ]
    }
   ],
   "source": [
    "print(len(preprocessed_data[0]))"
   ]
  },
  {
   "cell_type": "code",
   "execution_count": 51,
   "metadata": {},
   "outputs": [],
   "source": [
    "#x_indices = [5, 6, 11, 12, 13, 14, 15, 16, 17, 18, 19, 20]\n",
    "#y_indices = [7]\n",
    "x_indices = [3, 11]\n",
    "y_indices = [5]"
   ]
  },
  {
   "cell_type": "code",
   "execution_count": 52,
   "metadata": {},
   "outputs": [],
   "source": [
    "x = []\n",
    "y = []\n",
    "\n",
    "for row in preprocessed_data:\n",
    "    temp_x_list = []\n",
    "    temp_y_list = []\n",
    "    for i in range(len(row)):\n",
    "        if i in x_indices:\n",
    "            temp_x_list.append(float(row[i]))\n",
    "        if i in y_indices:\n",
    "            temp_y_list.append(float(row[i]))\n",
    "    x.append(temp_x_list)\n",
    "    y.append(temp_y_list)"
   ]
  },
  {
   "cell_type": "code",
   "execution_count": 53,
   "metadata": {},
   "outputs": [
    {
     "name": "stdout",
     "output_type": "stream",
     "text": [
      "(922747, 2)\n",
      "(922747, 1)\n"
     ]
    }
   ],
   "source": [
    "x_ray = np.array(x)\n",
    "y_ray = np.array(y)\n",
    "\n",
    "print(x_ray.shape)\n",
    "print(y_ray.shape)"
   ]
  },
  {
   "cell_type": "code",
   "execution_count": 54,
   "metadata": {},
   "outputs": [],
   "source": [
    "from sklearn.model_selection import train_test_split"
   ]
  },
  {
   "cell_type": "code",
   "execution_count": 55,
   "metadata": {},
   "outputs": [
    {
     "name": "stdout",
     "output_type": "stream",
     "text": [
      "(692060, 2)\n",
      "(230687, 2)\n",
      "(692060, 1)\n",
      "(230687, 1)\n"
     ]
    }
   ],
   "source": [
    "X_train, X_test, y_train, y_test = train_test_split(x_ray, y_ray)\n",
    "print(X_train.shape)\n",
    "print(X_test.shape)\n",
    "print(y_train.shape)\n",
    "print(y_test.shape)"
   ]
  },
  {
   "cell_type": "code",
   "execution_count": 56,
   "metadata": {},
   "outputs": [],
   "source": [
    "def ridge(x, y, lam):\n",
    "    \"\"\"This function does ridge regression with the stimuli x and responses y with\n",
    "    ridge parameter lam (short for lambda). It returns the weights.\n",
    "    This is definitely not the most efficient way to do this, but it's fine for now.\n",
    "    \"\"\"\n",
    "    n_features = x.shape[1]\n",
    "    beta_ridge = np.linalg.inv(x.T.dot(x) + lam * np.eye(n_features)).dot(x.T).dot(y)\n",
    "    return beta_ridge"
   ]
  },
  {
   "cell_type": "code",
   "execution_count": 57,
   "metadata": {},
   "outputs": [],
   "source": [
    "def mean_squared_error(z, z_hat):\n",
    "    sum = 0.0\n",
    "    for i in range(len(z)):\n",
    "        sum += (z[i] - z_hat[i]) ** 2\n",
    "    return sum / len(z)"
   ]
  },
  {
   "cell_type": "code",
   "execution_count": 58,
   "metadata": {},
   "outputs": [],
   "source": [
    "import matplotlib.pyplot as plt"
   ]
  },
  {
   "cell_type": "code",
   "execution_count": null,
   "metadata": {},
   "outputs": [],
   "source": [
    "n_training, n_features = X_train.shape\n",
    "\n",
    "n_mc_iters = 50 # let's do 50 Monte Carlo iterations\n",
    "n_per_mc_iter = 50 # on each MC iteration, hold out 50 datapoints to be the validation set\n",
    "\n",
    "lambdas = np.logspace(-3, 10, 30)\n",
    "val_mses = np.zeros((n_training, len(lambdas)))\n",
    "\n",
    "indices = np.arange(X_train.shape[0])\n",
    "\n",
    "for it in range(n_mc_iters):\n",
    "    # split the training dataset into two parts: one with a random selection of n_per_mc_iter points\n",
    "    # and one with all the other datapoints\n",
    "    \n",
    "    subindices = np.random.choice(indices, n_per_mc_iter, replace = False)\n",
    "    \n",
    "    x_trn = np.delete(X_train, subindices, 0)\n",
    "    y_trn = np.delete(y_train, subindices, 0)\n",
    "    \n",
    "    \n",
    "    x_val = np.take(X_train, subindices, 0)\n",
    "    y_val = np.take(y_train, subindices, 0)\n",
    "    \n",
    "    for ii in range(len(lambdas)):\n",
    "        # fit model using x_trn & predict y_val\n",
    "        # predict y_val\n",
    "        y_val_hat = x_val.dot(ridge(x_trn, y_trn, lambdas[ii]))\n",
    "        \n",
    "        # store squared error in val_mses\n",
    "        val_mses[it,ii] = mean_squared_error(y_val, y_val_hat)\n",
    "\n"
   ]
  },
  {
   "cell_type": "code",
   "execution_count": null,
   "metadata": {},
   "outputs": [],
   "source": [
    "# Plot the MSE for each lambda, averaged across the MC iterations\n",
    "\n",
    "plt.figure()\n",
    "plt.plot(np.sum(val_mses, axis = 0)/n_mc_iters)"
   ]
  },
  {
   "cell_type": "code",
   "execution_count": null,
   "metadata": {},
   "outputs": [],
   "source": [
    "# Choose the best lambda, print it\n",
    "best_lambda = np.argmin(np.sum(val_mses, axis = 0)/n_mc_iters)\n",
    "print(\"Best lambda:\", best_lambda)\n",
    "\n",
    "# Fit a model using the whole training set and the best lambda\n",
    "beta_hat = ridge(X_train, y_train, lambdas[best_lambda])\n",
    "\n",
    "# Use that model to predict y_test\n",
    "y_test_hat = X_test.dot(beta_hat)\n",
    "\n",
    "# Compute the MSE, print it\n",
    "test_mse = mean_squared_error(y_test, y_test_hat)\n",
    "\n",
    "print(\"Test MSE:\", test_mse)"
   ]
  },
  {
   "cell_type": "code",
   "execution_count": null,
   "metadata": {},
   "outputs": [],
   "source": [
    "print(beta_hat)"
   ]
  },
  {
   "cell_type": "code",
   "execution_count": null,
   "metadata": {},
   "outputs": [],
   "source": []
  }
 ],
 "metadata": {
  "kernelspec": {
   "display_name": "Python 3",
   "language": "python",
   "name": "python3"
  },
  "language_info": {
   "codemirror_mode": {
    "name": "ipython",
    "version": 3
   },
   "file_extension": ".py",
   "mimetype": "text/x-python",
   "name": "python",
   "nbconvert_exporter": "python",
   "pygments_lexer": "ipython3",
   "version": "3.8.1"
  }
 },
 "nbformat": 4,
 "nbformat_minor": 4
}
