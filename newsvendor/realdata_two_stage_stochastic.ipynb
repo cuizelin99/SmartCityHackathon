{
 "cells": [
  {
   "cell_type": "code",
   "execution_count": 1,
   "id": "34134850",
   "metadata": {},
   "outputs": [],
   "source": [
    "#https://github.com/Pyomo/PyomoGallery/blob/master/transport/transport.ipynb\n",
    "#god docs^^\n",
    "#matplotlib inline\n",
    "import matplotlib.pyplot as plt\n",
    "import numpy as np"
   ]
  },
  {
   "cell_type": "code",
   "execution_count": 2,
   "id": "da98cc11",
   "metadata": {},
   "outputs": [],
   "source": [
    "from pyomo.environ import *"
   ]
  },
  {
   "cell_type": "code",
   "execution_count": 3,
   "id": "d382e5d2",
   "metadata": {},
   "outputs": [],
   "source": [
    "#year, month, day, hour3, house_id4, hourly_kwh5, hourly_solar_kwh6, hourly_gal,latitude8, longitude9, summary10, temperature11, humidity, visibility, apparent_temperature, pressure, wind_speed, cloud_cover,wind_bearing, precip_intensity, precip_probability\n",
    "preprocessed_data = np.genfromtxt('../data/preprocessed_data.csv', delimiter=',', dtype = str)\n"
   ]
  },
  {
   "cell_type": "code",
   "execution_count": 4,
   "id": "0de7308b",
   "metadata": {},
   "outputs": [
    {
     "data": {
      "image/png": "[encoded data removed]",
      "text/plain": [
       "<Figure size 432x288 with 1 Axes>"
      ]
     },
     "metadata": {
      "needs_background": "light"
     },
     "output_type": "display_data"
    }
   ],
   "source": [
    "pre_data_s = preprocessed_data[0:10000]\n",
    "x = np.arange(0,100)\n",
    "lower = 2200\n",
    "upper = 2300\n",
    "power_usage = pre_data_s[lower:upper,5].astype(float)\n",
    "power_solar = pre_data_s[lower:upper,6].astype(float)\n",
    "plt.scatter(x,power_usage)\n",
    "plt.scatter(x,power_solar)\n",
    "plt.legend([\"elec usage\", \"solar\"])\n",
    "plt.show()"
   ]
  },
  {
   "cell_type": "code",
   "execution_count": 5,
   "id": "060d148d",
   "metadata": {},
   "outputs": [],
   "source": [
    "m = ConcreteModel()\n",
    "m.data_usage = power_usage\n",
    "m.data_solar = power_solar\n",
    "samples = len(m.data_usage)"
   ]
  },
  {
   "cell_type": "code",
   "execution_count": 6,
   "id": "8c82f3a1",
   "metadata": {},
   "outputs": [],
   "source": [
    "# declare decision variables\n",
    "m.j = range(samples)\n",
    "m.x2 = Var(m.j, domain=NonNegativeReals) #second stage power\n",
    "m.x1 = Var(domain=NonNegativeReals) #first stage power\n",
    "# consts\n",
    "c1 = 10 #cost of planned energy\n",
    "c2 = 25 #cost of last minute energy"
   ]
  },
  {
   "cell_type": "code",
   "execution_count": 7,
   "id": "04f064a3",
   "metadata": {},
   "outputs": [],
   "source": [
    "# declare objective\n",
    "def objective_rule(model):\n",
    "    second_stage = sum(model.x2[j] for j in range(0,samples))  \n",
    "    return samples*c1*m.x1 + c2*second_stage\n",
    "m.objective = Objective(rule=objective_rule, sense=minimize, doc='Define objective function')"
   ]
  },
  {
   "cell_type": "code",
   "execution_count": 8,
   "id": "a92b3882",
   "metadata": {},
   "outputs": [],
   "source": [
    "# declare constraints    \n",
    "def supply_rule(m, j):\n",
    "    demand = m.data_usage[j] - m.data_solar[j]\n",
    "    return m.x1 + m.x2[j] >= demand\n",
    "m.supply = Constraint(m.j, rule=supply_rule, doc='Observe supply limit at plant i')"
   ]
  },
  {
   "cell_type": "code",
   "execution_count": 9,
   "id": "c541d3ab",
   "metadata": {},
   "outputs": [
    {
     "name": "stdout",
     "output_type": "stream",
     "text": [
      "# ==========================================================\n",
      "# = Solver Results                                         =\n",
      "# ==========================================================\n",
      "# ----------------------------------------------------------\n",
      "#   Problem Information\n",
      "# ----------------------------------------------------------\n",
      "Problem: \n",
      "- Name: x102\n",
      "  Lower bound: 3275.25\n",
      "  Upper bound: 3275.25\n",
      "  Number of objectives: 1\n",
      "  Number of constraints: 101\n",
      "  Number of variables: 102\n",
      "  Number of binary variables: 0\n",
      "  Number of integer variables: 0\n",
      "  Number of continuous variables: 102\n",
      "  Number of nonzeros: 201\n",
      "  Sense: minimize\n",
      "# ----------------------------------------------------------\n",
      "#   Solver Information\n",
      "# ----------------------------------------------------------\n",
      "Solver: \n",
      "- Status: ok\n",
      "  Return code: 0\n",
      "  Message: Model was solved to optimality (subject to tolerances), and an optimal solution is available.\n",
      "  Termination condition: optimal\n",
      "  Termination message: Model was solved to optimality (subject to tolerances), and an optimal solution is available.\n",
      "  Wall time: 0.00199890136719\n",
      "  Error rc: 0\n",
      "  Time: 0.15508246421813965\n",
      "# ----------------------------------------------------------\n",
      "#   Solution Information\n",
      "# ----------------------------------------------------------\n",
      "Solution: \n",
      "- number of solutions: 0\n",
      "  number of solutions displayed: 0\n"
     ]
    }
   ],
   "source": [
    "# solve\n",
    "SolverFactory('gurobi').solve(m).write()"
   ]
  },
  {
   "cell_type": "code",
   "execution_count": 10,
   "id": "48fd4e99",
   "metadata": {},
   "outputs": [
    {
     "data": {
      "text/plain": [
       "2.134"
      ]
     },
     "execution_count": 10,
     "metadata": {},
     "output_type": "execute_result"
    }
   ],
   "source": [
    "m.x1()"
   ]
  },
  {
   "cell_type": "code",
   "execution_count": 11,
   "id": "4c29a1d0",
   "metadata": {},
   "outputs": [
    {
     "data": {
      "text/plain": [
       "[0.0,\n",
       " 0.0,\n",
       " 0.193,\n",
       " 0.0,\n",
       " 0.0,\n",
       " 0.0,\n",
       " 0.0,\n",
       " 0.0,\n",
       " 0.0,\n",
       " 0.0,\n",
       " 0.0,\n",
       " 0.0,\n",
       " 0.0,\n",
       " 0.0,\n",
       " 0.0,\n",
       " 0.0,\n",
       " 0.0,\n",
       " 0.0,\n",
       " 0.0,\n",
       " 0.0,\n",
       " 0.0,\n",
       " 0.0,\n",
       " 0.0,\n",
       " 0.0,\n",
       " 0.0,\n",
       " 0.0,\n",
       " 0.0,\n",
       " 0.0,\n",
       " 0.0,\n",
       " 0.0,\n",
       " 0.0,\n",
       " 0.0,\n",
       " 0.129,\n",
       " 0.0,\n",
       " 0.0,\n",
       " 0.0,\n",
       " 0.0,\n",
       " 0.0,\n",
       " 0.0,\n",
       " 0.0,\n",
       " 0.0,\n",
       " 0.0,\n",
       " 1.493,\n",
       " 0.0,\n",
       " 0.0,\n",
       " 0.0,\n",
       " 0.0,\n",
       " 0.0,\n",
       " 0.0,\n",
       " 0.0,\n",
       " 0.0,\n",
       " 0.0,\n",
       " 0.0,\n",
       " 0.0,\n",
       " 0.0,\n",
       " 0.0,\n",
       " 0.0,\n",
       " 0.0,\n",
       " 0.0,\n",
       " 0.0,\n",
       " 0.0,\n",
       " 0.0,\n",
       " 0.0,\n",
       " 0.0,\n",
       " 0.0,\n",
       " 0.0,\n",
       " 0.0,\n",
       " 0.0,\n",
       " 0.0,\n",
       " 0.0,\n",
       " 0.0,\n",
       " 0.0,\n",
       " 0.0,\n",
       " 0.0,\n",
       " 0.0,\n",
       " 0.0,\n",
       " 0.0,\n",
       " 0.0,\n",
       " 0.0,\n",
       " 0.0,\n",
       " 0.0,\n",
       " 0.0,\n",
       " 0.0,\n",
       " 0.0,\n",
       " 0.0,\n",
       " 0.0,\n",
       " 0.0,\n",
       " 0.0,\n",
       " 0.0,\n",
       " 0.0,\n",
       " 0.0,\n",
       " 0.0,\n",
       " 0.0,\n",
       " 0.0,\n",
       " 2.75,\n",
       " 0.0,\n",
       " 0.0,\n",
       " 0.0,\n",
       " 0.0,\n",
       " 0.0]"
      ]
     },
     "execution_count": 11,
     "metadata": {},
     "output_type": "execute_result"
    }
   ],
   "source": [
    "m.x2[:]()"
   ]
  },
  {
   "cell_type": "code",
   "execution_count": 12,
   "id": "a0ab869c",
   "metadata": {},
   "outputs": [
    {
     "name": "stdout",
     "output_type": "stream",
     "text": [
      "0.6650000000000001\n",
      "1.864\n",
      "2.327\n",
      "0.421\n",
      "0.9129999999999999\n",
      "1.182\n",
      "0.8920000000000001\n",
      "0.38299999999999995\n",
      "0.339\n",
      "0.5199999999999999\n",
      "1.216\n",
      "1.022\n",
      "0.621\n",
      "0.724\n",
      "0.904\n",
      "1.666\n",
      "1.0190000000000001\n",
      "0.371\n",
      "2.134\n",
      "1.456\n",
      "0.20600000000000002\n",
      "0.7809999999999999\n",
      "2.0260000000000002\n",
      "1.115\n",
      "0.595\n",
      "0.765\n",
      "0.7209999999999999\n",
      "1.338\n",
      "0.954\n",
      "1.0150000000000001\n",
      "2.021\n",
      "0.429\n",
      "2.263\n",
      "0.905\n",
      "1.368\n",
      "0.764\n",
      "1.54\n",
      "0.197\n",
      "0.22399999999999998\n",
      "1.224\n",
      "0.21700000000000003\n",
      "1.237\n",
      "3.627\n",
      "0.5760000000000001\n",
      "0\n",
      "0\n",
      "0\n",
      "0\n",
      "0\n",
      "1.945\n",
      "0\n",
      "0\n",
      "0.425\n",
      "0\n",
      "0.7680000000000002\n",
      "0.18699999999999983\n",
      "0.867\n",
      "0.30699999999999994\n",
      "0.26900000000000013\n",
      "0\n",
      "0\n",
      "0\n",
      "1.3630000000000002\n",
      "0.15200000000000014\n",
      "0\n",
      "0\n",
      "0.30399999999999994\n",
      "0.629\n",
      "0.698\n",
      "0\n",
      "1.743\n",
      "0.8959999999999999\n",
      "0\n",
      "0.68\n",
      "0.19899999999999995\n",
      "0.20600000000000007\n",
      "0.23600000000000002\n",
      "0\n",
      "0.48099999999999987\n",
      "0\n",
      "0\n",
      "0\n",
      "1.6159999999999997\n",
      "0\n",
      "1.2279999999999998\n",
      "0.09900000000000009\n",
      "0.669\n",
      "0.501\n",
      "0.7490000000000001\n",
      "0\n",
      "0.35700000000000004\n",
      "1.08\n",
      "0\n",
      "0\n",
      "4.8839999999999995\n",
      "0.833\n",
      "0\n",
      "0\n",
      "0\n",
      "0.10999999999999988\n",
      "1000\n"
     ]
    }
   ],
   "source": [
    "demand = 0\n",
    "for j in range(0,100):\n",
    "    no_neg_pwr = max( m.data_usage[j] - m.data_solar[j], 0)\n",
    "    print(no_neg_pwr)\n",
    "    #demand = demand + no_neg_pwr\n",
    "print(c1*samples)"
   ]
  },
  {
   "cell_type": "code",
   "execution_count": 13,
   "id": "74741720",
   "metadata": {},
   "outputs": [
    {
     "name": "stdout",
     "output_type": "stream",
     "text": [
      "3275.25\n"
     ]
    }
   ],
   "source": [
    "print(m.objective())"
   ]
  },
  {
   "cell_type": "code",
   "execution_count": null,
   "id": "78250651",
   "metadata": {},
   "outputs": [],
   "source": []
  },
  {
   "cell_type": "code",
   "execution_count": null,
   "id": "afffb338",
   "metadata": {},
   "outputs": [],
   "source": []
  }
 ],
 "metadata": {
  "kernelspec": {
   "display_name": "Python 3",
   "language": "python",
   "name": "python3"
  },
  "language_info": {
   "codemirror_mode": {
    "name": "ipython",
    "version": 3
   },
   "file_extension": ".py",
   "mimetype": "text/x-python",
   "name": "python",
   "nbconvert_exporter": "python",
   "pygments_lexer": "ipython3",
   "version": "3.6.13"
  }
 },
 "nbformat": 4,
 "nbformat_minor": 5
}
