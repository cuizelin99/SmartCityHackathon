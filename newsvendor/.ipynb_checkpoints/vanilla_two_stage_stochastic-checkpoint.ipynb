{
 "cells": [
  {
   "cell_type": "code",
   "execution_count": 1,
   "id": "bba67c3c",
   "metadata": {},
   "outputs": [],
   "source": [
    "#https://github.com/Pyomo/PyomoGallery/blob/master/transport/transport.ipynb\n",
    "#god docs^^\n",
    "#matplotlib inline\n",
    "import matplotlib.pyplot as plt\n",
    "import numpy as np"
   ]
  },
  {
   "cell_type": "code",
   "execution_count": 2,
   "id": "ade2e5f8",
   "metadata": {},
   "outputs": [],
   "source": [
    "from pyomo.environ import *"
   ]
  },
  {
   "cell_type": "code",
   "execution_count": 3,
   "id": "9aea84eb",
   "metadata": {},
   "outputs": [],
   "source": [
    "m = ConcreteModel()\n",
    "m.data_usage = [10,10,9,8,7,6,2,4,9,10]\n",
    "m.data_solar = [3,3,5,7,8,8,10,8,5,5]\n",
    "samples = len(m.data_usage)"
   ]
  },
  {
   "cell_type": "code",
   "execution_count": 4,
   "id": "c78a4ccb",
   "metadata": {},
   "outputs": [],
   "source": [
    "# declare decision variables\n",
    "m.j = range(samples)\n",
    "m.x2 = Var(m.j, domain=NonNegativeReals) #second stage power\n",
    "m.x1 = Var(domain=NonNegativeReals) #first stage power\n",
    "# consts\n",
    "c1 = 10 #cost of planned energy\n",
    "c2 = 25 #cost of last minute energy"
   ]
  },
  {
   "cell_type": "code",
   "execution_count": null,
   "id": "f6e7cdf5",
   "metadata": {},
   "outputs": [],
   "source": []
  },
  {
   "cell_type": "code",
   "execution_count": 5,
   "id": "11ded12c",
   "metadata": {},
   "outputs": [],
   "source": [
    "# declare objective\n",
    "def objective_rule(model):\n",
    "    second_stage = sum(model.x2[j] for j in range(0,samples))  \n",
    "    return samples*c1*m.x1 + c2*second_stage\n",
    "m.objective = Objective(rule=objective_rule, sense=minimize, doc='Define objective function')\n"
   ]
  },
  {
   "cell_type": "code",
   "execution_count": 6,
   "id": "58386027",
   "metadata": {},
   "outputs": [],
   "source": [
    "# declare constraints    \n",
    "def supply_rule(m, j):\n",
    "    demand = m.data_usage[j] - m.data_solar[j]\n",
    "    return m.x1 + m.x2[j] >= demand\n",
    "m.supply = Constraint(m.j, rule=supply_rule, doc='Observe supply limit at plant i')"
   ]
  },
  {
   "cell_type": "code",
   "execution_count": 7,
   "id": "70d6e4c3",
   "metadata": {},
   "outputs": [
    {
     "name": "stdout",
     "output_type": "stream",
     "text": [
      "# ==========================================================\n",
      "# = Solver Results                                         =\n",
      "# ==========================================================\n",
      "# ----------------------------------------------------------\n",
      "#   Problem Information\n",
      "# ----------------------------------------------------------\n",
      "Problem: \n",
      "- Name: x12\n",
      "  Lower bound: 575.0\n",
      "  Upper bound: 575.0\n",
      "  Number of objectives: 1\n",
      "  Number of constraints: 11\n",
      "  Number of variables: 12\n",
      "  Number of binary variables: 0\n",
      "  Number of integer variables: 0\n",
      "  Number of continuous variables: 12\n",
      "  Number of nonzeros: 21\n",
      "  Sense: minimize\n",
      "# ----------------------------------------------------------\n",
      "#   Solver Information\n",
      "# ----------------------------------------------------------\n",
      "Solver: \n",
      "- Status: ok\n",
      "  Return code: 0\n",
      "  Message: Model was solved to optimality (subject to tolerances), and an optimal solution is available.\n",
      "  Termination condition: optimal\n",
      "  Termination message: Model was solved to optimality (subject to tolerances), and an optimal solution is available.\n",
      "  Wall time: 0.00199699401855\n",
      "  Error rc: 0\n",
      "  Time: 0.16392230987548828\n",
      "# ----------------------------------------------------------\n",
      "#   Solution Information\n",
      "# ----------------------------------------------------------\n",
      "Solution: \n",
      "- number of solutions: 0\n",
      "  number of solutions displayed: 0\n"
     ]
    }
   ],
   "source": [
    "# solve\n",
    "SolverFactory('gurobi').solve(m).write()"
   ]
  },
  {
   "cell_type": "code",
   "execution_count": 8,
   "id": "88eefdc0",
   "metadata": {},
   "outputs": [
    {
     "data": {
      "text/plain": [
       "4.0"
      ]
     },
     "execution_count": 8,
     "metadata": {},
     "output_type": "execute_result"
    }
   ],
   "source": [
    "m.x1()\n",
    "\n"
   ]
  },
  {
   "cell_type": "code",
   "execution_count": 21,
   "id": "b1171b45",
   "metadata": {},
   "outputs": [
    {
     "ename": "TypeError",
     "evalue": "can only concatenate list (not \"float\") to list",
     "output_type": "error",
     "traceback": [
      "\u001b[1;31m---------------------------------------------------------------------------\u001b[0m",
      "\u001b[1;31mTypeError\u001b[0m                                 Traceback (most recent call last)",
      "\u001b[1;32m<ipython-input-21-af5b0616a3b6>\u001b[0m in \u001b[0;36m<module>\u001b[1;34m\u001b[0m\n\u001b[1;32m----> 1\u001b[1;33m \u001b[0mm\u001b[0m\u001b[1;33m.\u001b[0m\u001b[0mx2\u001b[0m\u001b[1;33m[\u001b[0m\u001b[1;33m:\u001b[0m\u001b[1;33m]\u001b[0m\u001b[1;33m(\u001b[0m\u001b[1;33m)\u001b[0m \u001b[1;33m+\u001b[0m \u001b[1;36m1.0\u001b[0m\u001b[1;33m\u001b[0m\u001b[1;33m\u001b[0m\u001b[0m\n\u001b[0m",
      "\u001b[1;31mTypeError\u001b[0m: can only concatenate list (not \"float\") to list"
     ]
    }
   ],
   "source": [
    "m.x2[:]() "
   ]
  },
  {
   "cell_type": "code",
   "execution_count": 25,
   "id": "6c4356f9",
   "metadata": {},
   "outputs": [
    {
     "data": {
      "text/plain": [
       "array([7., 7., 4., 4., 4., 4., 4., 4., 4., 5.])"
      ]
     },
     "execution_count": 25,
     "metadata": {},
     "output_type": "execute_result"
    }
   ],
   "source": [
    "x1 = np.array(m.x1())\n",
    "x2 = np.array(m.x2[:]())\n",
    "x1 + x2"
   ]
  },
  {
   "cell_type": "code",
   "execution_count": 28,
   "id": "74a6b25d",
   "metadata": {},
   "outputs": [
    {
     "data": {
      "text/plain": [
       "[<matplotlib.lines.Line2D at 0x28a9c142320>]"
      ]
     },
     "execution_count": 28,
     "metadata": {},
     "output_type": "execute_result"
    },
    {
     "data": {
      "image/png": "[encoded data removed]",
      "text/plain": [
       "<Figure size 432x288 with 1 Axes>"
      ]
     },
     "metadata": {
      "needs_background": "light"
     },
     "output_type": "display_data"
    }
   ],
   "source": [
    "plt.plot(m.data_usage)\n",
    "plt.plot(m.data_solar)\n",
    "data_u = np.array(m.data_usage)\n",
    "data_s = np.array(m.data_solar)\n",
    "plt.plot(data_u - data_s)\n"
   ]
  },
  {
   "cell_type": "code",
   "execution_count": null,
   "id": "14d52376",
   "metadata": {},
   "outputs": [],
   "source": [
    "plt.plot(x1 + x2)"
   ]
  }
 ],
 "metadata": {
  "kernelspec": {
   "display_name": "Python 3",
   "language": "python",
   "name": "python3"
  },
  "language_info": {
   "codemirror_mode": {
    "name": "ipython",
    "version": 3
   },
   "file_extension": ".py",
   "mimetype": "text/x-python",
   "name": "python",
   "nbconvert_exporter": "python",
   "pygments_lexer": "ipython3",
   "version": "3.6.13"
  }
 },
 "nbformat": 4,
 "nbformat_minor": 5
}
